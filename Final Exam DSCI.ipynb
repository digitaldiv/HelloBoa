{
 "cells": [
  {
   "cell_type": "markdown",
   "metadata": {},
   "source": [
    "# Final Exam\n",
    "---\n",
    "\n",
    "Please put your name here : _____________\n"
   ]
  },
  {
   "cell_type": "markdown",
   "metadata": {},
   "source": [
    "# Pandas Data Anlysis\n",
    "\n",
    "## Q 1 : Failed Banks Analysis\n",
    "\n",
    "In file `banklist.csv`, yu are provided with list of US banks that failed over years.\n",
    "\n",
    "<sub>\n",
    "\n",
    "- Primary Source of Data : https://www.fdic.gov/resources/resolutions/bank-failures/failed-bank-list/index.html\n",
    "- Alternative source of data:https://catalog.data.gov/dataset/fdic-failed-bank-list (2020)**\n",
    "\n",
    "</sub>"
   ]
  },
  {
   "cell_type": "markdown",
   "metadata": {},
   "source": [
    "### Q 1.1 : Load data from banklist.csv in to a dataframe named `df_banks` and display top 7 rows."
   ]
  },
  {
   "cell_type": "code",
   "execution_count": null,
   "metadata": {},
   "outputs": [],
   "source": [
    "# --------------------------------\n",
    "# Please write your solution here \n",
    "# --------------------------------\n",
    "\n",
    "#df_banks = ___________\n",
    "\n",
    "\n",
    "# --------------------------------"
   ]
  },
  {
   "cell_type": "markdown",
   "metadata": {},
   "source": [
    "### Q 1.2 : Filter data to display all the bank failures in state os Texas ('TX')."
   ]
  },
  {
   "cell_type": "code",
   "execution_count": null,
   "metadata": {},
   "outputs": [],
   "source": [
    "# --------------------------------\n",
    "# Please write your solution here \n",
    "# --------------------------------\n",
    "\n",
    "\n",
    "\n",
    "\n",
    "# --------------------------------"
   ]
  },
  {
   "cell_type": "markdown",
   "metadata": {},
   "source": [
    "### Q 1.3 : Write code to find number of banks failures **by state** and display top 5 states in descending order of count of failures."
   ]
  },
  {
   "cell_type": "code",
   "execution_count": null,
   "metadata": {},
   "outputs": [],
   "source": [
    "# --------------------------------\n",
    "# Please write your solution here \n",
    "# --------------------------------\n",
    "\n",
    "\n",
    "\n",
    "\n",
    "# --------------------------------"
   ]
  },
  {
   "cell_type": "markdown",
   "metadata": {},
   "source": [
    "### Q 1.4 : Write code to produce the count of rows that are missing 'Acquiring Institution' data. "
   ]
  },
  {
   "cell_type": "code",
   "execution_count": null,
   "metadata": {},
   "outputs": [],
   "source": [
    "# --------------------------------\n",
    "# Please write your solution here \n",
    "# --------------------------------\n",
    "\n",
    "\n",
    "\n",
    "\n",
    "# --------------------------------"
   ]
  },
  {
   "cell_type": "markdown",
   "metadata": {},
   "source": [
    "### Q 1.5 : Write code to replace missing 'Acquiring Institution' data with 'No Acquirer'. "
   ]
  },
  {
   "cell_type": "code",
   "execution_count": null,
   "metadata": {},
   "outputs": [],
   "source": [
    "# --------------------------------\n",
    "# Please write your solution here \n",
    "# --------------------------------\n",
    "\n",
    "\n",
    "\n",
    "\n",
    "# --------------------------------"
   ]
  },
  {
   "cell_type": "markdown",
   "metadata": {},
   "source": [
    "### Q 1.6 : Duplicates:\n",
    "- #### 1.6.1  : Write code to find and report number of duplicated rows. \n",
    "- #### 1.6.2 : Delete the duplicates retaining only one copy. Verify with step 4.1 to make sure duplicate count is zero."
   ]
  },
  {
   "cell_type": "code",
   "execution_count": null,
   "metadata": {},
   "outputs": [],
   "source": [
    "# --------------------------------\n",
    "# Please write your solution here \n",
    "# --------------------------------\n",
    "\n",
    "\n",
    "\n",
    "\n",
    "# --------------------------------"
   ]
  },
  {
   "cell_type": "markdown",
   "metadata": {},
   "source": [
    "### Q 1.7: Write code to find 'Acquiring Institution' with most number of acquisition. (Hint: It can't be 'No Acquirer')"
   ]
  },
  {
   "cell_type": "code",
   "execution_count": null,
   "metadata": {},
   "outputs": [],
   "source": [
    "# --------------------------------\n",
    "# Please write your solution here \n",
    "# --------------------------------\n",
    "\n",
    "\n",
    "\n",
    "\n",
    "# --------------------------------"
   ]
  },
  {
   "cell_type": "markdown",
   "metadata": {},
   "source": [
    "# Object oriented Programming\n",
    "\n",
    "## Q 2 : Create Classes to code eCommerce system.\n",
    "\n",
    "Our objective is the create classes for an ecommerce website using Object Oriented Programming in Python. \n",
    "\n",
    "Our website will sell only books and footware to begin with. \n",
    "\n",
    "Your task is to write following python classes:\n",
    "\n",
    "- class `PRODUCT`\n",
    "- class `BOOK`\n",
    "- class `FOOTWARE`\n",
    "\n",
    "Product Classes\n",
    "\n",
    "a. Create an abstract class called `PRODUCT` which will have\n",
    "-  `product_num`, `product_name`, `category`, `price`, `ratings`, `reviews`  attributes  \n",
    "- constructor to create product with num, name and category\n",
    "- abstract method set price\n",
    "\n",
    "\n",
    "b. Create a concrete class `BOOK` which will\n",
    "- inherit from `PRODUCT`\n",
    "- add attributes `author`,`total_pages`,`title`,`published_year`,`isbn`\n",
    "- new constructor with additional attributes `author`,`total_pages`,`title`,`published_year`,`isbn`\n",
    "- Method to provide string description with *Book `title` By `author`*\n",
    "\n",
    "\n",
    "c. create a class `FOOTWARE`\n",
    "- inherit from `PRODUCT`\n",
    "- add attributes `available_sizes`, `brand`, `model`, `material`, `color`\n",
    "- new constructor with additional attributes `available_sizes`, `brand`, `model`, `material`, `color`\n",
    "- Method to provide string description with *`color` `model` Shoes by `brand`*\n",
    "\n"
   ]
  },
  {
   "cell_type": "code",
   "execution_count": null,
   "metadata": {},
   "outputs": [],
   "source": [
    "# --------------------------------\n",
    "# Please write your solution here \n",
    "# --------------------------------\n",
    "\n",
    "\n",
    "\n",
    "\n",
    "# --------------------------------"
   ]
  },
  {
   "cell_type": "markdown",
   "metadata": {},
   "source": [
    "# Functional Programming\n",
    "## Q 3 :  Decorator\n",
    "\n",
    "Write a decorator `ReturnNumberOnly` that:\n",
    "- validates if return value of decorated function is a number.\n",
    "- If the return value is a number, it returns the number.\n",
    "- If the return value is a string with numerical value, it returns numerical value.\n",
    "- if the return value of decorated function is none or non-numeric, it returns -1.\n"
   ]
  },
  {
   "cell_type": "code",
   "execution_count": null,
   "metadata": {},
   "outputs": [],
   "source": [
    "# --------------------------------\n",
    "# Please write your solution here \n",
    "# --------------------------------\n",
    "\n",
    "\n",
    "\n",
    "\n",
    "# --------------------------------"
   ]
  },
  {
   "cell_type": "markdown",
   "metadata": {},
   "source": [
    "# NumPy \n",
    "\n",
    "## Q 3: NumPy Matrix \n",
    "\n",
    "Following are sales  of 8 products in 5 stores.\n",
    "<code>\n",
    "sales_list = [[47., 54., 53., 46., 58.],\n",
    "       [46., 56., 48., 48., 41.],\n",
    "       [47., 52., 49., 47., 46.],\n",
    "       [47., 47., 50., 48., 49.],\n",
    "       [57., 52., 56., 48., 49.],\n",
    "       [52., 51., 51., 53., 48.],\n",
    "       [44., 49., 45., 44., 43.],\n",
    "       [46., 48., 46., 50., 46.]]\n",
    "</code>\n",
    "\n",
    "- Use stroe names as [\"Stroe1\",\"Stroe2\",\"Stroe3\",\"Stroe4\",\"Stroe5\"]\n",
    "- Use product names as [\"Product1\",\"Product2\",\"Product3\",\"Product4\",\"Product5\",\"Product6\",\"Product7\",\"Product8\"]\n",
    "\n",
    "Using NumPy create a matrix `sales` of 8x5 dimension with sales numbers and answer following questions.\n",
    "\n",
    "- Q 3.1  Find average revenue of each product as `product_avg_sales`\n",
    "- Q 3.2  Find average revenue of each store as  `store_avg_sales`\n",
    "- Q 3.3  Find the total revunue of all stores and all products `total_sales_before`.\n",
    "- Q 3.4  If product2 sales was increased by 10% and store3 sales were increased by 25% \n",
    "\n",
    "       - how much would total sales increase? put this value in `sales_diff` \n",
    "\n",
    "       - how much would total sales average increase? put this value in `sales_mean_diff` \n",
    "\n"
   ]
  },
  {
   "cell_type": "code",
   "execution_count": 49,
   "metadata": {},
   "outputs": [],
   "source": [
    "sales_list = [[47., 54., 53., 46., 58.],\n",
    "       [46., 56., 48., 48., 41.],\n",
    "       [47., 52., 49., 47., 46.],\n",
    "       [47., 47., 50., 48., 49.],\n",
    "       [57., 52., 56., 48., 49.],\n",
    "       [52., 51., 51., 53., 48.],\n",
    "       [44., 49., 45., 44., 43.],\n",
    "       [46., 48., 46., 50., 46.]]\n",
    "\n",
    "# --------------------------------\n",
    "# Please write your solution here \n",
    "# --------------------------------\n",
    "\n",
    "\n",
    "\n",
    "\n",
    "# --------------------------------\n"
   ]
  },
  {
   "cell_type": "code",
   "execution_count": 50,
   "metadata": {},
   "outputs": [
    {
     "name": "stdout",
     "output_type": "stream",
     "text": [
      "124.60000000000036\n",
      "3.115000000000009\n"
     ]
    }
   ],
   "source": [
    "\n",
    "sales =np.array(sales_list)\n",
    "\n",
    "sales_mean_before= sales.mean()\n",
    "\n",
    "sales_total_before= sales.sum()\n",
    "\n",
    "\n",
    "store_avg_sales=sales .mean(axis=0)\n",
    "product_avg_sales = prices.mean(axis=1)\n",
    "\n",
    "\n",
    "# Increase Product2 prices by 10%\n",
    "sales[1, :] = sales[1, :] * 1.1\n",
    "\n",
    "# Increase Store3 prices by 8%\n",
    "sales[:, 2] = sales[:, 2] * 1.25\n",
    "\n",
    "sales\t\n",
    "\n",
    "store_avg_sales_10=sales .mean(axis=0)\n",
    "product_avg_sales_8 = prices.mean(axis=1)\n",
    "\n",
    "sales_mean_after = sales.mean()\n",
    "sales_total_after= sales.sum()\n",
    "\n",
    "sales_diff= sales_total_after - sales_total_before\n",
    "\n",
    "sales_mean_diff=sales_mean_after - sales_mean_before\n",
    "\n",
    "print(sales_diff)\n",
    "print(sales_mean_diff)"
   ]
  },
  {
   "cell_type": "markdown",
   "metadata": {},
   "source": [
    "---\n",
    "Happy Summer Break :) \n",
    "---\n"
   ]
  }
 ],
 "metadata": {
  "kernelspec": {
   "display_name": ".venv",
   "language": "python",
   "name": "python3"
  },
  "language_info": {
   "codemirror_mode": {
    "name": "ipython",
    "version": 3
   },
   "file_extension": ".py",
   "mimetype": "text/x-python",
   "name": "python",
   "nbconvert_exporter": "python",
   "pygments_lexer": "ipython3",
   "version": "3.10.13"
  }
 },
 "nbformat": 4,
 "nbformat_minor": 2
}
